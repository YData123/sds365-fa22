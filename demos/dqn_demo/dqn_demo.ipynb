{
 "cells": [
  {
   "cell_type": "markdown",
   "metadata": {},
   "source": [
    "### Deep Q-learning for multi-armed bandits \n",
    "\n",
    "This notebook runs a \"multi-armed bandit\" problem using the DQN framework. This is definitely using a hammer for a nail, but it illustrates the approach to more complex deep Q-learning problems. \n",
    "\n",
    "For multi-armed bandits, the \n",
    "optimal strategy is to always pull the arm with the largest expected reward, as soon \n",
    "as you know that's the best arm.\n",
    "\n",
    "This notebook also serves as a working example for automatic differentiation in tensorflow.\n",
    "\n",
    "Adapted from [this post](https://towardsdatascience.com/a-minimal-working-example-for-deep-q-learning-in-tensorflow-2-0-e0ca8a944d5e).\n"
   ]
  },
  {
   "cell_type": "code",
   "execution_count": 1,
   "metadata": {},
   "outputs": [],
   "source": [
    "import numpy as np\n",
    "import tensorflow as tf\n",
    "import tensorflow.keras as keras\n",
    "import tensorflow.keras.layers as layers\n",
    "from time import sleep\n",
    "from IPython.display import clear_output\n",
    "import matplotlib.pyplot as plt"
   ]
  },
  {
   "cell_type": "code",
   "execution_count": 2,
   "metadata": {},
   "outputs": [],
   "source": [
    "def get_reward(bandit: float):\n",
    "    \"\"\"Generate reward for selected bandit\"\"\"\n",
    "    reward = tf.random.normal([1], mean=bandit, stddev=1, dtype=tf.dtypes.float32)\n",
    "    return reward\n",
    "\n",
    "\n",
    "def construct_q_network(state_dim: int, action_dim: int):\n",
    "    \"\"\"Construct the Q-network with q-values per action as output\"\"\"\n",
    "    inputs = layers.Input(shape=(state_dim,))  # input dimension\n",
    "    hidden1 = layers.Dense(10, activation=\"relu\")(inputs)\n",
    "    hidden2 = layers.Dense(10, activation=\"relu\")(hidden1)\n",
    "    hidden3 = layers.Dense(10, activation=\"relu\")(hidden2)\n",
    "    q_values = layers.Dense(action_dim, activation=\"linear\")(hidden3)\n",
    "    deep_q_network = keras.Model(inputs=inputs, outputs=[q_values])\n",
    "    return deep_q_network\n",
    "\n",
    "\n",
    "def mean_squared_error_loss(q_value: tf.Tensor, reward: tf.Tensor):\n",
    "    \"\"\"Compute mean squared error loss\"\"\"\n",
    "    loss = 0.5 * (q_value - reward) ** 2\n",
    "    return loss\n",
    "\n",
    "def plot(q_values: tf.Tensor, bandits: np.array, episode):\n",
    "    \"\"\"Plot bar chart with selection probability per bandit\"\"\"\n",
    "    q_values_plot = [q_values[i] for i in range(len(q_values))]\n",
    "    bandit_plot = [bandits[i] for i in range(len(bandits))]\n",
    "    width = 0.4\n",
    "    x = np.arange(len(bandits))\n",
    "    \n",
    "    plt.figure(figsize=(12,7))\n",
    "    fig, ax = plt.subplots()\n",
    "    ax.bar(x - width / 2, q_values_plot, width, label=\"Q-values\")\n",
    "    ax.bar(x + width / 2, bandit_plot, width, label=\"True values\")\n",
    "\n",
    "    ax.set_xticks(range(len(q_values)))\n",
    "    plt.xlabel(\"Bandit\")\n",
    "    plt.ylabel(\"Value\")\n",
    "    plt.legend(loc=\"best\")\n",
    "    plt.title('Episode: %d' % episode)\n",
    "    plt.show()\n",
    "    return\n"
   ]
  },
  {
   "cell_type": "code",
   "execution_count": 3,
   "metadata": {
    "scrolled": false
   },
   "outputs": [
    {
     "name": "stdout",
     "output_type": "stream",
     "text": [
      "\n",
      "======episode 986 ======\n",
      "Q-values ['0.347', '1.458', '0.675', '0.477', '1.596']\n",
      "Deviation ['-61.5%', '21.5%', '-3.5%', '-52.3%', '6.4%']\n"
     ]
    },
    {
     "data": {
      "text/plain": [
       "<Figure size 864x504 with 0 Axes>"
      ]
     },
     "metadata": {},
     "output_type": "display_data"
    },
    {
     "data": {
      "image/png": "[encoded data removed]",
      "text/plain": [
       "<Figure size 432x288 with 1 Axes>"
      ]
     },
     "metadata": {
      "needs_background": "light"
     },
     "output_type": "display_data"
    }
   ],
   "source": [
    "# Initialize parameters\n",
    "state = tf.constant([[1]])\n",
    "bandits = np.array([0.9, 1.2, 0.7, 1.0, 1.5])\n",
    "state_dim = len(state)\n",
    "action_dim = len(bandits)\n",
    "exploration_rate = 0.2\n",
    "learning_rate = 0.01\n",
    "num_episodes = 1000\n",
    "\n",
    "# Construct Q-network\n",
    "q_network = construct_q_network(state_dim, action_dim)\n",
    "\n",
    "# Define optimizer\n",
    "opt = tf.keras.optimizers.Adam(learning_rate=learning_rate)\n",
    "\n",
    "for i in range(num_episodes + 1):\n",
    "    with tf.GradientTape() as tape:\n",
    "        # Obtain Q-values from network\n",
    "        q_values = q_network(state)\n",
    "\n",
    "        epsilon = np.random.rand()\n",
    "        if epsilon <= exploration_rate:\n",
    "            # Select random action\n",
    "            action = np.random.choice(len(bandits))\n",
    "        else:\n",
    "            # Select action with highest q-value\n",
    "            action = np.argmax(q_values)\n",
    "            \n",
    "        # Obtain reward from bandit\n",
    "        reward = get_reward(bandits[action])\n",
    "\n",
    "        # Obtain Q-value\n",
    "        q_value = q_values[0, action]\n",
    "\n",
    "        # Compute loss value\n",
    "        loss_value = mean_squared_error_loss(q_value, reward)\n",
    "\n",
    "        # Compute gradients\n",
    "        grads = tape.gradient(loss_value[0], q_network.trainable_variables)\n",
    "\n",
    "        # Apply gradients to update network weights\n",
    "        opt.apply_gradients(zip(grads, q_network.trainable_variables))\n",
    "        \n",
    "        # Print console output\n",
    "        if np.mod(i, int(10*np.log(i+1)/2)) == 0:\n",
    "            clear_output(wait=True)\n",
    "            print(\"\\n======episode\", i, \"======\")\n",
    "            print(\"Q-values\", [\"%.3f\" % n for n in q_values[0]])\n",
    "            print(\"Deviation\",\n",
    "                [\"%.1f%%\" % float(100*(q_values[0, i] - bandits[i]) / bandits[i]) for i in range(len(q_values[0]))])\n",
    "            plot(q_values[0], bandits, episode=i)\n",
    "            sleep(1)\n",
    "            \n"
   ]
  }
 ],
 "metadata": {
  "kernelspec": {
   "display_name": "Python 3",
   "language": "python",
   "name": "python3"
  },
  "language_info": {
   "codemirror_mode": {
    "name": "ipython",
    "version": 3
   },
   "file_extension": ".py",
   "mimetype": "text/x-python",
   "name": "python",
   "nbconvert_exporter": "python",
   "pygments_lexer": "ipython3",
   "version": "3.8.5"
  }
 },
 "nbformat": 4,
 "nbformat_minor": 4
}
