{
 "cells": [
  {
   "cell_type": "markdown",
   "metadata": {},
   "source": [
    "## Demo code for kernel density estimation\n",
    "\n",
    "This notebook illustrates kernel density estimation, which is basically the same as kernel smoothing \n",
    "for regression. The estimator is given by \n",
    "$$ {\\hat f}(x) = \\frac{1}{nh^p} \\sum_{i=1}^n K\\left( \\frac{X_i - x}{h}\\right)$$\n",
    "where $K(u)$ is a smoothing kernel that integrates to one. \n",
    "As in our previous notebook, we show the use of [different kernels](https://en.wikipedia.org/wiki/Kernel_(statistics)#Kernel_functions_in_common_use), illustrating that it's the bandwidth that matters most, not the shape of the kernel.\n",
    "\n"
   ]
  },
  {
   "cell_type": "code",
   "execution_count": 1,
   "metadata": {},
   "outputs": [],
   "source": [
    "import numpy as np\n",
    "import pandas as pd\n",
    "import matplotlib.pyplot as plt\n",
    "%matplotlib inline\n"
   ]
  },
  {
   "cell_type": "code",
   "execution_count": 4,
   "metadata": {},
   "outputs": [],
   "source": [
    "def boxcar_kernel(u, h):\n",
    "    return 0.5*np.array(np.fabs(u)/h < 1)\n",
    "\n",
    "def triangular_kernel(u, h):\n",
    "    return (1-np.abs(u)/h)*np.array(np.fabs(u)/h < 1)\n",
    "\n",
    "def gaussian_kernel(u, h):\n",
    "    return (1./np.sqrt(2*np.pi)) * np.exp(-(u)**2/(2*h**2))\n",
    "\n",
    "def epanechnikov_kernel(u, h):\n",
    "    return 0.75 * (1 - u**2/h**2)*np.array(np.fabs(u)/h < 1)\n",
    "\n",
    "def tricube_kernel(u, h):\n",
    "    return (70./81) * ((1 - np.abs(u)**3/h**3)**3)*np.array(np.fabs(u)/h < 1)\n",
    "\n",
    "def kde_with_kernel(kernel, X, x, h):\n",
    "    K = np.zeros(len(x)*len(X)).reshape(len(x), len(X))\n",
    "    for j in np.arange(K.shape[1]):\n",
    "        K[:,j] = kernel(x-X[j], h)\n",
    "    fhat = (1/h) * np.mean(K, axis=1)\n",
    "    return fhat\n"
   ]
  },
  {
   "cell_type": "markdown",
   "metadata": {},
   "source": [
    "We read in the [Fiji earthquake data](https://stat.ethz.ch/R-manual/R-devel/library/datasets/html/quakes.html)."
   ]
  },
  {
   "cell_type": "code",
   "execution_count": 2,
   "metadata": {},
   "outputs": [
    {
     "data": {
      "text/html": [
       "<div>\n",
       "<style scoped>\n",
       "    .dataframe tbody tr th:only-of-type {\n",
       "        vertical-align: middle;\n",
       "    }\n",
       "\n",
       "    .dataframe tbody tr th {\n",
       "        vertical-align: top;\n",
       "    }\n",
       "\n",
       "    .dataframe thead th {\n",
       "        text-align: right;\n",
       "    }\n",
       "</style>\n",
       "<table border=\"1\" class=\"dataframe\">\n",
       "  <thead>\n",
       "    <tr style=\"text-align: right;\">\n",
       "      <th></th>\n",
       "      <th>Obs.</th>\n",
       "      <th>lat</th>\n",
       "      <th>long</th>\n",
       "      <th>depth</th>\n",
       "      <th>mag</th>\n",
       "      <th>stations</th>\n",
       "    </tr>\n",
       "  </thead>\n",
       "  <tbody>\n",
       "    <tr>\n",
       "      <th>0</th>\n",
       "      <td>1</td>\n",
       "      <td>-20.42</td>\n",
       "      <td>181.62</td>\n",
       "      <td>562</td>\n",
       "      <td>4.8</td>\n",
       "      <td>41</td>\n",
       "    </tr>\n",
       "    <tr>\n",
       "      <th>1</th>\n",
       "      <td>2</td>\n",
       "      <td>-20.62</td>\n",
       "      <td>181.03</td>\n",
       "      <td>650</td>\n",
       "      <td>4.2</td>\n",
       "      <td>15</td>\n",
       "    </tr>\n",
       "    <tr>\n",
       "      <th>2</th>\n",
       "      <td>3</td>\n",
       "      <td>-26.00</td>\n",
       "      <td>184.10</td>\n",
       "      <td>42</td>\n",
       "      <td>5.4</td>\n",
       "      <td>43</td>\n",
       "    </tr>\n",
       "    <tr>\n",
       "      <th>3</th>\n",
       "      <td>4</td>\n",
       "      <td>-17.97</td>\n",
       "      <td>181.66</td>\n",
       "      <td>626</td>\n",
       "      <td>4.1</td>\n",
       "      <td>19</td>\n",
       "    </tr>\n",
       "    <tr>\n",
       "      <th>4</th>\n",
       "      <td>5</td>\n",
       "      <td>-20.42</td>\n",
       "      <td>181.96</td>\n",
       "      <td>649</td>\n",
       "      <td>4.0</td>\n",
       "      <td>11</td>\n",
       "    </tr>\n",
       "    <tr>\n",
       "      <th>...</th>\n",
       "      <td>...</td>\n",
       "      <td>...</td>\n",
       "      <td>...</td>\n",
       "      <td>...</td>\n",
       "      <td>...</td>\n",
       "      <td>...</td>\n",
       "    </tr>\n",
       "    <tr>\n",
       "      <th>995</th>\n",
       "      <td>996</td>\n",
       "      <td>-25.93</td>\n",
       "      <td>179.54</td>\n",
       "      <td>470</td>\n",
       "      <td>4.4</td>\n",
       "      <td>22</td>\n",
       "    </tr>\n",
       "    <tr>\n",
       "      <th>996</th>\n",
       "      <td>997</td>\n",
       "      <td>-12.28</td>\n",
       "      <td>167.06</td>\n",
       "      <td>248</td>\n",
       "      <td>4.7</td>\n",
       "      <td>35</td>\n",
       "    </tr>\n",
       "    <tr>\n",
       "      <th>997</th>\n",
       "      <td>998</td>\n",
       "      <td>-20.13</td>\n",
       "      <td>184.20</td>\n",
       "      <td>244</td>\n",
       "      <td>4.5</td>\n",
       "      <td>34</td>\n",
       "    </tr>\n",
       "    <tr>\n",
       "      <th>998</th>\n",
       "      <td>999</td>\n",
       "      <td>-17.40</td>\n",
       "      <td>187.80</td>\n",
       "      <td>40</td>\n",
       "      <td>4.5</td>\n",
       "      <td>14</td>\n",
       "    </tr>\n",
       "    <tr>\n",
       "      <th>999</th>\n",
       "      <td>1000</td>\n",
       "      <td>-21.59</td>\n",
       "      <td>170.56</td>\n",
       "      <td>165</td>\n",
       "      <td>6.0</td>\n",
       "      <td>119</td>\n",
       "    </tr>\n",
       "  </tbody>\n",
       "</table>\n",
       "<p>1000 rows × 6 columns</p>\n",
       "</div>"
      ],
      "text/plain": [
       "     Obs.    lat    long  depth  mag  stations\n",
       "0       1 -20.42  181.62    562  4.8        41\n",
       "1       2 -20.62  181.03    650  4.2        15\n",
       "2       3 -26.00  184.10     42  5.4        43\n",
       "3       4 -17.97  181.66    626  4.1        19\n",
       "4       5 -20.42  181.96    649  4.0        11\n",
       "..    ...    ...     ...    ...  ...       ...\n",
       "995   996 -25.93  179.54    470  4.4        22\n",
       "996   997 -12.28  167.06    248  4.7        35\n",
       "997   998 -20.13  184.20    244  4.5        34\n",
       "998   999 -17.40  187.80     40  4.5        14\n",
       "999  1000 -21.59  170.56    165  6.0       119\n",
       "\n",
       "[1000 rows x 6 columns]"
      ]
     },
     "execution_count": 2,
     "metadata": {},
     "output_type": "execute_result"
    }
   ],
   "source": [
    "quakes = pd.read_csv('https://raw.githubusercontent.com/YData123/sds365-sp22/main/demos/smoothing/fijiquakes.dat', sep='\\s+')\n",
    "quakes"
   ]
  },
  {
   "cell_type": "code",
   "execution_count": 7,
   "metadata": {
    "scrolled": true
   },
   "outputs": [
    {
     "data": {
      "text/plain": [
       "<matplotlib.legend.Legend at 0x7ffb587898e0>"
      ]
     },
     "execution_count": 7,
     "metadata": {},
     "output_type": "execute_result"
    },
    {
     "data": {
      "image/png": "[encoded data removed]",
      "text/plain": [
       "<Figure size 864x576 with 1 Axes>"
      ]
     },
     "metadata": {
      "needs_background": "light"
     },
     "output_type": "display_data"
    }
   ],
   "source": [
    "X = quakes['depth']\n",
    "x = np.linspace(-100, 800, 500)\n",
    "\n",
    "fhat_gaussian = kde_with_kernel(gaussian_kernel, X, x, 20)\n",
    "#fhat_tricube = kde_with_kernel(tricube_kernel, X, x, 50)\n",
    "#fhat_epanech = kde_with_kernel(epanechnikov_kernel, X, x, 40)\n",
    "#fhat_box = kde_with_kernel(boxcar_kernel, X, x, 35)\n",
    "#fhat_triangle = kde_with_kernel(triangular_kernel, X, x, 45)\n",
    "\n",
    "plt.figure(figsize=(12, 8))\n",
    "\n",
    "#plt.plot(x, fhat_box, label='boxcar')\n",
    "plt.plot(x, fhat_gaussian, label='gaussian')\n",
    "\n",
    "plt.xlabel('depth of earthquake')\n",
    "plt.ylabel('probability density')\n",
    "plt.legend()\n"
   ]
  }
 ],
 "metadata": {
  "kernelspec": {
   "display_name": "Python 3",
   "language": "python",
   "name": "python3"
  },
  "language_info": {
   "codemirror_mode": {
    "name": "ipython",
    "version": 3
   },
   "file_extension": ".py",
   "mimetype": "text/x-python",
   "name": "python",
   "nbconvert_exporter": "python",
   "pygments_lexer": "ipython3",
   "version": "3.8.5"
  }
 },
 "nbformat": 4,
 "nbformat_minor": 4
}
