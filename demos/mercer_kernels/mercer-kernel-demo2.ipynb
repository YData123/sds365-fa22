{
 "cells": [
  {
   "cell_type": "markdown",
   "metadata": {},
   "source": [
    "## Demo code for Mercer kernels\n",
    "\n",
    "Mercer kernels always evaluate to positive definite matrices. Let's see which of \n",
    "the kernels we used for smoothing are actually Mercer kernels.\n"
   ]
  },
  {
   "cell_type": "code",
   "execution_count": null,
   "metadata": {},
   "outputs": [],
   "source": [
    "import numpy as np\n",
    "import matplotlib.pyplot as plt\n"
   ]
  },
  {
   "cell_type": "code",
   "execution_count": null,
   "metadata": {},
   "outputs": [],
   "source": [
    "def boxcar(u, h):\n",
    "    return 0.5*np.array(np.fabs(u)/h < 1)\n",
    "\n",
    "def triangular(u, h):\n",
    "    return (1-np.abs(u)/h)*np.array(np.fabs(u)/h < 1)\n",
    "\n",
    "def gaussian(u, h):\n",
    "    return np.exp(-(u)**2/(2*h**2))\n",
    "\n",
    "def epanechnikov(u, h):\n",
    "    return 0.75 * (1 - u**2/h**2)*np.array(np.fabs(u)/h < 1)\n",
    "\n",
    "def tricube(u, h):\n",
    "    return (78./80) * ((1 - np.abs(u)**3/h**3)**3)*np.array(np.fabs(u)/h < 1)\n",
    "\n",
    "def compute_gram_matrix(X, kernel):\n",
    "    n = len(X)\n",
    "    K = np.zeros(n*n).reshape(n, n)\n",
    "    for j in np.arange(n):\n",
    "        K[:,j] = kernel(X - X[j], 1)\n",
    "    return K\n",
    "\n",
    "def plot_eigenvalues(kernel, n=20):\n",
    "    fix, (ax1, ax2) = plt.subplots(1,2, figsize=(10,4))\n",
    "    u = np.linspace(-3, 3, 100)\n",
    "    ax1.plot(u, kernel(u, 1), color='gray')\n",
    "    X = np.random.randn(n)\n",
    "    K = compute_gram_matrix(X, kernel)\n",
    "    eigs = np.sort(np.real(np.linalg.eig(K)[0]))\n",
    "    ax2.bar(np.arange(n), height=np.where(eigs >= 0, eigs, 0), color='red')\n",
    "    ax2.bar(np.arange(n), height=np.where(eigs < 0, eigs, 0), color='blue')\n",
    "    ax2.axhline(0, color='gray', linewidth=.5)\n",
    "    _ = ax2.set_xticks([])\n",
    "    "
   ]
  },
  {
   "cell_type": "markdown",
   "metadata": {},
   "source": [
    "We compute the \"Gram matrix\" by evaluating the kernel on all pairs of points. \n",
    "Then, we compute the eigenvalues of the resulting matrix. If some of the \n",
    "eigenvalues are negative, the kernel cannot be a Mercer kernel.\n"
   ]
  },
  {
   "cell_type": "code",
   "execution_count": null,
   "metadata": {},
   "outputs": [],
   "source": [
    "plot_eigenvalues(boxcar, 20)\n"
   ]
  }
 ],
 "metadata": {
  "kernelspec": {
   "display_name": "Python 3",
   "language": "python",
   "name": "python3"
  },
  "language_info": {
   "codemirror_mode": {
    "name": "ipython",
    "version": 3
   },
   "file_extension": ".py",
   "mimetype": "text/x-python",
   "name": "python",
   "nbconvert_exporter": "python",
   "pygments_lexer": "ipython3",
   "version": "3.8.5"
  }
 },
 "nbformat": 4,
 "nbformat_minor": 4
}
