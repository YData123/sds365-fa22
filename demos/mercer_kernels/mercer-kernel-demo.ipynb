{
 "cells": [
  {
   "cell_type": "markdown",
   "metadata": {},
   "source": [
    "## Warmup demo for Mercer kernels\n",
    "\n",
    "This notebook illustrates the functions defined in terms of an RKHS (Reproducing Kernel Hilbert Space). For assignment 1, we will ask you to implement Mercer kernel regression.\n",
    "The code here can serve as a starting point for this.\n",
    "\n",
    "We display random functions of the form $f(x) = \\sum_{i=1}^n \\alpha_i K(x,X_i)$, where \n",
    "$K$ is a Gaussian kernel, and the $\\alpha_i$s are just random normal random variables. Notice that while Mercer kernel regression works in terms of penalization, the bandwidth parameter in $K$ also affects the smoothness of the functions.\n"
   ]
  },
  {
   "cell_type": "code",
   "execution_count": 4,
   "metadata": {},
   "outputs": [],
   "source": [
    "import numpy as np\n",
    "import matplotlib.pyplot as plt\n",
    "%matplotlib inline\n",
    "from IPython.display import clear_output\n",
    "from time import sleep\n"
   ]
  },
  {
   "cell_type": "code",
   "execution_count": 5,
   "metadata": {},
   "outputs": [],
   "source": [
    "def triangular(u, h):\n",
    "    return (1-np.abs(u)/h)*np.array(np.fabs(u)/h < 1)\n",
    "\n",
    "def gaussian(u, h):\n",
    "    return np.exp(-(u)**2/(2*h**2))\n",
    "\n",
    "def compute_gram_matrix(X, kernel):\n",
    "    n = len(X)\n",
    "    K = np.zeros(n*n).reshape(n, n)\n",
    "    for j in np.arange(n):\n",
    "        K[:,j] = kernel(X - X[j], 1)\n",
    "    return K\n"
   ]
  },
  {
   "cell_type": "code",
   "execution_count": 11,
   "metadata": {},
   "outputs": [],
   "source": [
    "def random_mercer_kernel_function(X, x, kernel, h=.3):\n",
    "    # Compute the function values on x\n",
    "    K = np.zeros(len(x)*len(X)).reshape(len(x), len(X))\n",
    "    for j in np.arange(K.shape[1]):\n",
    "        K[:,j] = kernel(x - X[j], h)\n",
    "    alpha = np.random.normal(size=K.shape[1])\n",
    "    f = K @ alpha\n",
    "    \n",
    "    # Compute the norm of the function \n",
    "    Khat = np.zeros(len(X)*len(X)).reshape(len(X), len(X))\n",
    "    for j in np.arange(K.shape[1]):\n",
    "        Khat[:,j] = kernel(X - X[j], h)\n",
    "    norm = alpha.T @ Khat @ alpha\n",
    "    \n",
    "    return f, norm\n",
    "\n",
    "def plot_function(x, f, norm, sleeptime=.01):\n",
    "    clear_output(wait=True)\n",
    "    plt.figure(figsize=(10,6))\n",
    "    plt.plot(x, f, color='gray', linewidth=2, label='true function')\n",
    "    plt.title('norm: %.2f' % norm)\n",
    "    plt.ylim((1.25)*np.min(f), (1.25)*np.max(f))\n",
    "    plt.show()\n",
    "    sleep(sleeptime)\n",
    "    \n"
   ]
  },
  {
   "cell_type": "code",
   "execution_count": null,
   "metadata": {
    "scrolled": true
   },
   "outputs": [],
   "source": [
    "min_x, max_x = -1, 1\n",
    "x = np.linspace(min_x, max_x, 1000)\n",
    "\n",
    "for i in np.arange(20):\n",
    "    X = np.sort(np.random.uniform(low=min_x, high=max_x, size=100))\n",
    "    f, norm = random_mercer_kernel_function(X, x, gaussian, h=.1)\n",
    "    plot_function(x, f, norm, sleeptime=1)"
   ]
  }
 ],
 "metadata": {
  "kernelspec": {
   "display_name": "Python 3",
   "language": "python",
   "name": "python3"
  },
  "language_info": {
   "codemirror_mode": {
    "name": "ipython",
    "version": 3
   },
   "file_extension": ".py",
   "mimetype": "text/x-python",
   "name": "python",
   "nbconvert_exporter": "python",
   "pygments_lexer": "ipython3",
   "version": "3.8.5"
  }
 },
 "nbformat": 4,
 "nbformat_minor": 4
}
