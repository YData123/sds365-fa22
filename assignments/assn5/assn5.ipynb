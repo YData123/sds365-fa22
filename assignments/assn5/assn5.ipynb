{
 "cells": [
  {
   "cell_type": "markdown",
   "metadata": {
    "id": "5ccb1d8a"
   },
   "source": [
    "# Intermediate Machine Learning: Assignment 5\n",
    "\n",
    "**Deadline**\n",
    "\n",
    "Assignment 5 is due Wednesday, December 7 by 11:59pm. Late work will not be accepted as per the course policies (see the Syllabus and Course policies on Canvas).\n",
    "\n",
    "Directly sharing answers is not okay, but discussing problems with the course staff or with other students is encouraged.\n",
    "\n",
    "You should start early so that you have time to get help if you're stuck. The drop-in office hours schedule can be found on Canvas. You can also post questions or start discussions on Ed Discussion. The assignment may look long at first glance, but the problems are broken up into steps that should help you to make steady progress.\n",
    "\n",
    "**Submission**\n",
    "\n",
    "Submit your assignment as a pdf file on Gradescope, and as a notebook (.ipynb) on Canvas. You can access Gradescope through Canvas on the left-side of the class home page. The problems in each homework assignment are numbered. Note: When submitting on Gradescope, please select the correct pages of your pdf that correspond to each problem. This will allow graders to more easily find your complete solution to each problem.\n",
    "\n",
    "To produce the .pdf, please do the following in order to preserve the cell structure of the notebook:\n",
    "\n",
    "Go to \"File\" at the top-left of your Jupyter Notebook\n",
    "Under \"Download as\", select \"HTML (.html)\"\n",
    "After the .html has downloaded, open it and then select \"File\" and \"Print\" (note you will not actually be printing)\n",
    "From the print window, select the option to save as a .pdf\n",
    "\n",
    "**Topics**\n",
    "\n",
    " * Policy iteration\n",
    " * RNNs and GRUs\n",
    " * LSTMs\n",
    "\n",
    "This assignment will also help to solidify your Python skills."
   ]
  },
  {
   "cell_type": "markdown",
   "metadata": {
    "id": "ab0544a4"
   },
   "source": [
    "## Problem 1: Policy Iteration (10 Points)"
   ]
  },
  {
   "cell_type": "markdown",
   "metadata": {
    "id": "730feba7"
   },
   "source": [
    "During class, we talked about the policy iteration algorithm, which is a tabular method that estimates the optimal policy using iterative policy evaluation. \n",
    "More specifically, at each policy evaluation step, we follow a policy $\\pi$ and update the value function $V(s)$ for each state $s$ as \n",
    "\n",
    "$$\n",
    "V(s) \\gets \\sum_{s', r} p(s', r|s, \\pi(s))[r + \\gamma V(s')];\n",
    "$$\n",
    "\n",
    "at each policy improvement step, we improve the current policy $\\pi(s)$ following the updated value function: \n",
    "\n",
    "$$\n",
    "\\pi(s) \\gets \\text{argmax}_{a}\\sum_{s',r} p(s', r|s,a)[r+\\gamma V(s')].\n",
    "$$\n",
    "\n",
    "Following this iteration of policy evaluation and policy improvement, we can obtain a sequence of monotonically improving policies and value functions. In other words, each policy is guaranteed to be a strict improvement over the previous one unless it is an optimal policy, i.e., $\\pi = \\pi^*$.\n",
    "\n",
    "Since a finite MDP (Markov Decision Process) has only a finite number of policies, this process eventually converges to an optimal policy $\\pi^*$ and the corresponding optimal value function in a finite number of iterations.\n",
    "\n",
    "However, it is not entirely clear *a priori* why we are able to constantly improve our policy $\\pi$ following this alternating process. \n",
    "\n",
    "In this question, we walk you through a proof that the policy improves in each iteration of the algorithm. "
   ]
  },
  {
   "cell_type": "markdown",
   "metadata": {
    "id": "cbd0edfd"
   },
   "source": [
    "1. Suppose we have a policy $\\pi$ and a monotonically improved policy $\\pi'$, such that for all states $s \\in S$, we have \n",
    "\n",
    "$$\n",
    "Q_{\\pi}(s, \\pi'(s)) \\ge V_{\\pi}(s).\n",
    "$$\n",
    "\n",
    "Show that the value function $V_{\\pi'}$ dominates $V_{\\pi}$, i.e., for all states $s \\in S$\n",
    "\n",
    "$$\n",
    "V_{\\pi'}(s) \\ge V_{\\pi}(s).\n",
    "$$\n",
    "\n",
    "*Hint: Consider expanding the value functions iteratively.*"
   ]
  },
  {
   "cell_type": "code",
   "execution_count": null,
   "metadata": {
    "id": "e62d7707"
   },
   "outputs": [],
   "source": [
    "# your markdown here"
   ]
  },
  {
   "cell_type": "markdown",
   "metadata": {
    "id": "5a7b2bda"
   },
   "source": [
    "2. Apply the conclusion of part 1 to the policy improvement step to show that it leads to a sequence of monotonically improving policies. In other words, show that if $\\pi \\neq \\pi^*$, the next round policy $\\pi'$ under the policy iteration algorithm satisfies $V_{\\pi'}(s) > V_{\\pi}(s)$ for some state $s\\in S$."
   ]
  },
  {
   "cell_type": "code",
   "execution_count": null,
   "metadata": {
    "id": "eede565f"
   },
   "outputs": [],
   "source": [
    "# your markdown here"
   ]
  },
  {
   "cell_type": "markdown",
   "metadata": {
    "id": "78f64b66"
   },
   "source": [
    "## Problem 2: Elephants Can Remember (20 points)"
   ]
  },
  {
   "cell_type": "markdown",
   "metadata": {
    "id": "ba3663cd"
   },
   "source": [
    "Text generation is a common task in Natural Language Processing (NLP), where, given an initial text as a prompt, the model will produce human-like text that continues the prompt. Over the past years, transformer-based models (like GPT-3) have taken over the domain of text generation. In this problem, let's take a step back and focus on the earlier sequence models for text generation: Vanilla Recurrent Neural Networks (RNNs) and Recurrent Neural Networks with Gated Recurrent Units (GRUs). The models in this part of the assignment will be character-based models, trained on an extract of the book \"Elephants Can Remember\" by Agatha Christie. To reduce the size of our vocabulary, the text is pre-processed by converting the letters to lower case and removing numbers. The code below shows some information about our training and test set. All the necessary files for this problem are available through Canvas, under the file name \"q2_data\", a compressed folder.\n"
   ]
  },
  {
   "cell_type": "code",
   "execution_count": null,
   "metadata": {
    "id": "0804721c"
   },
   "outputs": [],
   "source": [
    "import numpy as np\n",
    "from tqdm import tqdm\n",
    "import tensorflow as tf\n",
    "import random\n",
    "  \n",
    "from keras.models import Sequential, model_from_json\n",
    "from keras.layers import Dense, Activation\n",
    "from keras.layers import GRU, SimpleRNN"
   ]
  },
  {
   "cell_type": "code",
   "execution_count": null,
   "metadata": {
    "id": "f93de082"
   },
   "outputs": [],
   "source": [
    "with open('q2_data/Agatha_Christie_train.txt', 'r') as file:\n",
    "    train_text = file.read()\n",
    "    \n",
    "with open('q2_data/Agatha_Christie_test.txt', 'r') as file:\n",
    "    test_text = file.read()\n",
    "\n",
    "vocabulary = sorted(list(set(train_text + test_text)))\n",
    "vocab_size = len(vocabulary)\n",
    "\n",
    "# Dictionaries to go from a character to index and vice versa\n",
    "char_to_indices = dict((c, i) for i, c in enumerate(vocabulary))\n",
    "indices_to_char = dict((i, c) for i, c in enumerate(vocabulary))"
   ]
  },
  {
   "cell_type": "code",
   "execution_count": null,
   "metadata": {
    "id": "7320ed64"
   },
   "outputs": [],
   "source": [
    "# The first 500 characters of our training set\n",
    "train_text[0:500]"
   ]
  },
  {
   "cell_type": "code",
   "execution_count": null,
   "metadata": {
    "id": "3a50abac"
   },
   "outputs": [],
   "source": [
    "print(\"The vocabulary contains\", vocab_size, \"characters\")\n",
    "print(\"The training set contains\", len(train_text) ,\"characters\")\n",
    "print(\"The test set contains\", len(test_text) ,\"characters\")"
   ]
  },
  {
   "cell_type": "markdown",
   "metadata": {
    "id": "d02ce399"
   },
   "source": [
    "### Problem 2.1: The Diversity of Language Models"
   ]
  },
  {
   "cell_type": "markdown",
   "metadata": {
    "id": "6951a417"
   },
   "source": [
    "Before jumping into coding, let's start with comparing the language models we will be using in this assigment."
   ]
  },
  {
   "cell_type": "markdown",
   "metadata": {
    "id": "472741ad"
   },
   "source": [
    "1. Describe the differences between a Vanilla RNN and a GRU network. In your explanation, make sure you mention the issues with vanilla RNNs and how GRUs try to solve them. "
   ]
  },
  {
   "cell_type": "code",
   "execution_count": null,
   "metadata": {
    "id": "06832930"
   },
   "outputs": [],
   "source": [
    "# Your markdown here"
   ]
  },
  {
   "cell_type": "markdown",
   "metadata": {
    "id": "61c45e86"
   },
   "source": [
    "2. Describe at least two advantages of a character based language model over a word based language model."
   ]
  },
  {
   "cell_type": "code",
   "execution_count": null,
   "metadata": {
    "id": "8b07db8a"
   },
   "outputs": [],
   "source": [
    "# Your markdown here"
   ]
  },
  {
   "cell_type": "markdown",
   "metadata": {
    "id": "ccac684e"
   },
   "source": [
    "### Problem 2.2: Generating Text with the Vanilla RNN"
   ]
  },
  {
   "cell_type": "markdown",
   "metadata": {
    "id": "85bdca8b"
   },
   "source": [
    "The code below loads in a pretrained vanilla RNN model with two layers. The model is set up exactly like in the lecture slides (with tanh activation layers in the recurrent layers) with the addition of biases (intercepts) in every layer (i.e. the recurrent layer and the dense layer). The training process consisted of 30 epochs."
   ]
  },
  {
   "cell_type": "code",
   "execution_count": null,
   "metadata": {
    "id": "45bd5d3b"
   },
   "outputs": [],
   "source": [
    "# load json and create model\n",
    "json_file = open('q2_data/RNN_model.json', 'r')\n",
    "loaded_model_json = json_file.read()\n",
    "json_file.close()\n",
    "\n",
    "RNN_model = model_from_json(loaded_model_json)\n",
    "RNN_model.load_weights(\"q2_data/RNN_model.h5\")"
   ]
  },
  {
   "cell_type": "code",
   "execution_count": null,
   "metadata": {
    "id": "648273ea"
   },
   "outputs": [],
   "source": [
    "# load in the weights and show summary\n",
    "weights_RNN = RNN_model.get_weights()\n",
    "RNN_model.summary()"
   ]
  },
  {
   "cell_type": "markdown",
   "metadata": {
    "id": "a4bcccd8"
   },
   "source": [
    "Finish the following function that uses a vanilla RNN architecture to generate text, given the weights of the RNN model, a text prompt, and the number of characters to return. The function should be completed by **only using numpy functions**. Use your knowledge of how every weight plays its role in the RNN architecture. Do not worry about the weight extraction part, this is already provided for you. The weight matrix $W_{xh1}$, for example, denotes the weight matrix to go from the input x to the first hidden state layer h1. The hidden states $h_1$ and $h_2$ are initialized to a vector of zeros. \n",
    "\n",
    "The embedding of each character has to be done by a one-hot encoding, where you will need the dictionaries defined in the introduction to go from a character to an index position."
   ]
  },
  {
   "cell_type": "code",
   "execution_count": null,
   "metadata": {
    "id": "736ff633"
   },
   "outputs": [],
   "source": [
    "def sample_text_RNN(weights, prompt, N):\n",
    "    '''\n",
    "    Uses a pretrained RNN to generate text, starting from a prompt, \n",
    "    only using the weights and numpy commands\n",
    "            Parameters:\n",
    "                    weights (list): Weights of the pretrained RNN model\n",
    "                    prompt (string): Start of generated sentence\n",
    "                    N (int): Length of output sentence (including prompt)\n",
    "            Returns:\n",
    "                    output_sentence (string): Text generated by RNN\n",
    "    '''\n",
    "    # Extracting weights and biases\n",
    "    # Dimensions of matrices are same format as lecture slides\n",
    "\n",
    "    # First Recurrent Layer \n",
    "    W_xh1 = weights[0].T \n",
    "    W_h1h1 = weights[1].T \n",
    "    b_h1 = np.expand_dims(weights[2], axis=1)\n",
    "\n",
    "    # Second Recurrent Layer\n",
    "    W_h1h2 = weights[3].T\n",
    "    W_h2h2 = weights[4].T\n",
    "    b_h2 = np.expand_dims(weights[5], axis=1)\n",
    "\n",
    "    # Linear (dense) layer\n",
    "    W_h2y = weights[6].T\n",
    "    b_y = np.expand_dims(weights[7], axis=1)\n",
    "    \n",
    "    # Initiate the hidden states\n",
    "    h1 = np.zeros((W_h1h1.shape[0], 1))\n",
    "    h2 = np.zeros((W_h2h2.shape[0], 1))\n",
    "    \n",
    "    # -----------------------------------------------\n",
    "    \n",
    "    # Your code starts here\n",
    "    output_sentence = \"\"\n",
    "        \n",
    "    return output_sentence"
   ]
  },
  {
   "cell_type": "markdown",
   "metadata": {
    "id": "cfc7420f"
   },
   "source": [
    "Test out your function by running the following code cell. Use it as a sanity check that your code is working. The generated text should not be perfect English, but at least you should be able to recognize some words."
   ]
  },
  {
   "cell_type": "code",
   "execution_count": null,
   "metadata": {
    "id": "12458ad0"
   },
   "outputs": [],
   "source": [
    "print(sample_text_RNN(weights_RNN, \n",
    "                      'mrs. oliver looked at herself in the glass. she gave a brief, sideways look', \n",
    "                      1000))"
   ]
  },
  {
   "cell_type": "markdown",
   "metadata": {
    "id": "c950eae8"
   },
   "source": [
    "### Problem 2.3: Generating Text with the GRU"
   ]
  },
  {
   "cell_type": "markdown",
   "metadata": {
    "id": "1dd93ee7"
   },
   "source": [
    "The code below loads in a pretrained GRU model. The model is set up exactly like in the lecture slides (with sigmoid activation layers for the gates and tanh activation layers in the recurrent layer) and trained for 30 epochs."
   ]
  },
  {
   "cell_type": "code",
   "execution_count": null,
   "metadata": {
    "id": "82291909"
   },
   "outputs": [],
   "source": [
    "# load json and create model\n",
    "json_file = open('q2_data/GRU_model.json', 'r')\n",
    "loaded_model_json = json_file.read()\n",
    "json_file.close()\n",
    "\n",
    "GRU_model = model_from_json(loaded_model_json)\n",
    "GRU_model.load_weights(\"q2_data/GRU_model.h5\")"
   ]
  },
  {
   "cell_type": "code",
   "execution_count": null,
   "metadata": {
    "id": "738974b5"
   },
   "outputs": [],
   "source": [
    "# load in the weights and show summary\n",
    "weights_GRU = GRU_model.get_weights()\n",
    "GRU_model.summary()"
   ]
  },
  {
   "cell_type": "markdown",
   "metadata": {
    "id": "cad5b34f"
   },
   "source": [
    "Finish the following function that uses a GRU architecture to generate text, given the weights of the GRU model, a text prompt, and the number of characters to return. The function should be completed by **only using numpy functions**. Use your knowledge of how every weight plays its role in the GRU architecture. Do not worry about the weight extraction part, this is already provided for you. The hidden state $h$ is initialized to a vector of zeros. \n",
    "\n",
    "The embedding of each character has to be done by a one-hot encoding, where you will need the dictionaries defined in the introduction to go from a character to an index position."
   ]
  },
  {
   "cell_type": "code",
   "execution_count": null,
   "metadata": {
    "id": "259c1d40"
   },
   "outputs": [],
   "source": [
    "# Helper function\n",
    "def sigmoid(z):\n",
    "    return 1 / (1 + np.exp(-z))\n",
    "\n",
    "def sample_text_GRU(weights, prompt, N):\n",
    "    '''\n",
    "    Uses a pretrained GRU to generate text, starting from a prompt,\n",
    "    only using the weights and numpy commands\n",
    "            Parameters:\n",
    "                    weights (list): Weights of the pretrained GRU model\n",
    "                    prompt (string): Start of generated sentence\n",
    "                    N (int): Total length of output sentence\n",
    "            Returns:\n",
    "                    output_sentence (string): Text generated by GRU\n",
    "    '''\n",
    "    # Extracting weights and biases\n",
    "    # Dimensions of matrices are same format as lecture slides\n",
    "    \n",
    "    # GRU Layer \n",
    "    W_ux, W_rx, W_hx = np.split(weights[0].T, 3, axis = 0)\n",
    "    W_uh, W_rh, W_hh = np.split(weights[1].T, 3, axis = 0)\n",
    "\n",
    "    bias = np.sum(weights[2], axis=0)\n",
    "    b_u, b_r, b_h = np.split(np.expand_dims(bias, axis=1), 3)\n",
    "\n",
    "    # Linear (dense) layer\n",
    "    W_y = weights[3].T\n",
    "    b_y = np.expand_dims(weights[4], axis=1)\n",
    "    \n",
    "    # Initiate hidden state\n",
    "    h = np.zeros((W_hh.shape[0], 1))\n",
    "    \n",
    "    # -----------------------------------------------\n",
    "    \n",
    "    # Your code starts here\n",
    "    output_sentence = \"\"\n",
    "        \n",
    "    return output_sentence"
   ]
  },
  {
   "cell_type": "markdown",
   "metadata": {
    "id": "117fdc8f"
   },
   "source": [
    "Test out your function by running the following code cell. Use it as a sanity check that your code is working. The generated text should not be perfect English, but at least you should be able to recognize some words."
   ]
  },
  {
   "cell_type": "code",
   "execution_count": null,
   "metadata": {
    "id": "3fc14584"
   },
   "outputs": [],
   "source": [
    "print(sample_text_GRU(weights_GRU, \n",
    "                      'mrs. oliver looked at herself in the glass. she gave a brief, sideways look',\n",
    "                      1000))"
   ]
  },
  {
   "cell_type": "markdown",
   "metadata": {
    "id": "6a35ba68"
   },
   "source": [
    "### Problem 2.4: Can Elephants Remember Better?"
   ]
  },
  {
   "cell_type": "markdown",
   "metadata": {
    "id": "09cd85c4"
   },
   "source": [
    "Perplexity is a measure to quantify how \"good\" a language model $M$ is, based on a test (or validation) set. The perplexity on a sequence $s$ of characters $a_i$ of size $N$ is defined as:\n",
    "\n",
    "$$\n",
    "\\text{Perplexity}(M) = M(s)^{(-1/N)} = \\left\\{p(a_1, ..., a_N)\\right\\}^{(-1/N)} = \\left\\{p(a_1) \\ p(a_2|a_1) \\ ... \\  p(a_N|a_1,\\ldots, a_{N-1})\\right\\}^{(-1/N)}\n",
    "$$\n",
    "\n",
    "The intuition behind this metric is that, if a model assigns a high probability to a test set, it is not surprised to see it (not perplexed by it), which means the model $M$ has a good understanding of how the language works. Hence, a good model has, in theory, a lower perplexity. The exponent $(-1/N)$ in the formula is just a normalizing strategy (geometric average), because adding more characters to a test set would otherwise introduce more uncertainty (i.e. larger test sets would have lower probability). So by introducing the geometric average, we have a metric that is independent of the size of the test set.\n",
    "\n",
    "When calculating the perplexity, it is important to know that taking the product of a bunch of probabilities will most likely lead to a zero value by the computer. To prevent this, make use of a log-transformation:\n",
    "\n",
    "$$\n",
    "\\text{Log-Perplexity}(M) = -\\frac{1}{N} log\\left\\{p(a_1, ..., a_N)\\right\\} = -\\frac{1}{N} \\left\\{log \\ p(a_1) + \\ log \\ p(a_2|a_1) + \\ ... \\ + log \\  p(a_N|a_1,\\ldots,a_{N-1})\\right\\} \n",
    "$$\n",
    "\n",
    "Don't forget to go back to the normal perplexity after this transformation. "
   ]
  },
  {
   "cell_type": "markdown",
   "metadata": {
    "id": "709c6d4e"
   },
   "source": [
    "1. Before calculating the perplexity of a test sequence, start with comparing the outputs of 2.2 and 2.3. Do you see any differences in the generated text of the Vanilla RNN model and the GRU model? Briefly discuss."
   ]
  },
  {
   "cell_type": "code",
   "execution_count": null,
   "metadata": {
    "id": "3ccf8083"
   },
   "outputs": [],
   "source": [
    "# Your markdown here"
   ]
  },
  {
   "cell_type": "markdown",
   "metadata": {
    "id": "5c9a5bf5"
   },
   "source": [
    "2. Calculate the perplexity of each language model by using test_text, an unseen extract of the book. Choose the prompt as the first $m$ letters of the test set, where $m$ is a parameter that you can choose yourself. You should be able to reuse the majority of your previous code in this calculation. Discuss your results at the end."
   ]
  },
  {
   "cell_type": "code",
   "execution_count": null,
   "metadata": {
    "id": "e0c2a390"
   },
   "outputs": [],
   "source": [
    "# Your code here"
   ]
  },
  {
   "cell_type": "markdown",
   "metadata": {
    "id": "9ab728c9"
   },
   "source": [
    "3. As seen in part 2 and 3 of this problem, the text generation is not perfect. Describe some possible model improvements that could make the quality of the generated text better."
   ]
  },
  {
   "cell_type": "code",
   "execution_count": null,
   "metadata": {
    "id": "8df914d2"
   },
   "outputs": [],
   "source": [
    "# Your markdown here"
   ]
  },
  {
   "cell_type": "markdown",
   "metadata": {
    "id": "Wrg2q0uTGe_b"
   },
   "source": [
    "## Problem 3: Are you Opinionated? ( 20 points)\n",
    "\n",
    "In this problem, we will see how an LSTM recognises the patterns and nuances of a language and is able to help with a difficult classification task. We will work with the [SwitchBoard](https://huggingface.co/datasets/swda) Dataset which is a collection of transcribed phone conversations between people. The corpus has many different kinds of sentiment labels, which you can read about [here](https://huggingface.co/datasets/swda) under the section Dialog act annotations. \n",
    "\n",
    "For our problem, we will only consider the labels **Statement-non-opinion** and **Statement-opinion** for our classification model. A statement opinion is a sentence/dialogue act where the speaker is trying to assert an opinion in the dialogue such as \"I think it's great\", \"I guess that is correct\". Statement Non opinions are sentences where there is no opinion being expressed by the speaker, such as \"Our winter break is starting on 22nd December, 2022 this year\" or \"The Great Rocky Mountains have been voted to be one of the most beautiful mountain ranges this year\". \n",
    "\n",
    "We will use Tensorflow here to build our classification model.\n",
    "\n"
   ]
  },
  {
   "cell_type": "code",
   "execution_count": null,
   "metadata": {},
   "outputs": [],
   "source": []
  },
  {
   "cell_type": "code",
   "execution_count": 1,
   "metadata": {
    "id": "sLgWMaX_Ggqc"
   },
   "outputs": [],
   "source": [
    "import matplotlib.pyplot as plt\n",
    "import string\n",
    "import tensorflow as tf\n",
    "import pandas as pd\n",
    "import re\n",
    "import os\n",
    "\n",
    "from tensorflow.keras import layers\n",
    "from tensorflow.keras import losses\n",
    "import pandas as pd\n",
    "import numpy as np\n",
    "from sklearn.model_selection import train_test_split"
   ]
  },
  {
   "cell_type": "markdown",
   "metadata": {
    "id": "-lqiM_VQGoCm"
   },
   "source": [
    "Load in the data and pre-process the text to extract our desired labels to work with. A file named Training_Data.csv has been uploaded to Canvas which contains the data to be trained on."
   ]
  },
  {
   "cell_type": "code",
   "execution_count": 3,
   "metadata": {
    "id": "WNPb1QydGsEI"
   },
   "outputs": [],
   "source": [
    "# You do not have to change anything here. Just run it! Just make sure \n",
    "# Training_Data.csv is in the same directory of the code.\n",
    "\n",
    "train_data = pd.read_csv('Training_Data.csv')\n",
    "X_train = train_data['Sentence']\n",
    "y_train = train_data['Label']"
   ]
  },
  {
   "cell_type": "code",
   "execution_count": 4,
   "metadata": {
    "id": "BhGdFeExGt7J"
   },
   "outputs": [],
   "source": [
    "## Dont change anything. Just Run it!\n",
    "\n",
    "BUFFER_SIZE = 500\n",
    "BATCH_SIZE = 256\n",
    "\n",
    "# Convert the data to tensors to feed into our model. Just run it!\n",
    "train_tensor=tf.convert_to_tensor(X_train)\n",
    "raw_train_ds=tf.data.Dataset.from_tensor_slices((train_tensor, y_train))\n",
    "raw_train_ds = raw_train_ds.shuffle(BUFFER_SIZE).batch(BATCH_SIZE)"
   ]
  },
  {
   "cell_type": "markdown",
   "metadata": {
    "id": "bPOSyMdOGwoU"
   },
   "source": [
    "You can visualize your training dataset and labels here."
   ]
  },
  {
   "cell_type": "code",
   "execution_count": 2,
   "metadata": {
    "colab": {
     "base_uri": "https://localhost:8080/"
    },
    "id": "vHT60eQnGxF_",
    "outputId": "7306c7d4-fe45-4bf3-be18-59966584214c"
   },
   "outputs": [],
   "source": [
    "for text_batch, label_batch in raw_train_ds.take(1):\n",
    "  for i in range(3):\n",
    "    print(\"Text\", text_batch.numpy()[i])\n",
    "    print(\"Label\", label_batch.numpy()[i])"
   ]
  },
  {
   "cell_type": "markdown",
   "metadata": {
    "id": "JgM7Y7klGz9F"
   },
   "source": [
    "In the next few code blocks, we define a standard custom vectorization function for our vectorization of input sentences. We will use Tensorflow's [TextVectorization](https://www.tensorflow.org/api_docs/python/tf/keras/layers/TextVectorization) library here to \n",
    "vectoeize our texts as input to our model. "
   ]
  },
  {
   "cell_type": "code",
   "execution_count": 6,
   "metadata": {
    "id": "AfpjRSBPGyYz"
   },
   "outputs": [],
   "source": [
    "# Feel free to change a few settings if you think it could improve your model. \n",
    "\n",
    "def custom_standardization(input_data):\n",
    "  lowercase = tf.strings.lower(input_data)\n",
    "  stripped_html = tf.strings.regex_replace(lowercase, '<br />', ' ')\n",
    "  return tf.strings.regex_replace(stripped_html,\n",
    "                                  '[%s]' % re.escape(string.punctuation.replace('?','')),\n",
    "                                  '')\n",
    "\n",
    "max_features = 10000\n",
    "sequence_length = 300\n",
    "\n",
    "# Defining the text vectorization layer.\n",
    "vectorize_layer = layers.TextVectorization(\n",
    "    standardize = custom_standardization,\n",
    "    max_tokens = max_features,\n",
    "    output_mode = 'int',\n",
    "    output_sequence_length = sequence_length)\n",
    "\n",
    "# Make a text-only dataset (without labels), then call adapt\n",
    "train_text = raw_train_ds.map(lambda x, y: x)\n",
    "vectorize_layer.adapt(train_text)"
   ]
  },
  {
   "cell_type": "markdown",
   "metadata": {
    "id": "mONp9353G4XF"
   },
   "source": [
    "We finally vectorize our texts and check how our vectorization works with our input sentences."
   ]
  },
  {
   "cell_type": "code",
   "execution_count": 1,
   "metadata": {
    "colab": {
     "base_uri": "https://localhost:8080/"
    },
    "id": "EqYObHkgG5VV",
    "outputId": "cb2569d5-fbb8-4b15-920b-3020cb7f7476"
   },
   "outputs": [],
   "source": [
    "## Dont change anything. Just run it!\n",
    "\n",
    "# Define our vectorization function\n",
    "def vectorize_text(text, label):\n",
    "  text = tf.expand_dims(text, -1)\n",
    "  return vectorize_layer(text), label\n",
    "\n",
    "# Retrieve a batch (of 32 reviews and labels) from the dataset\n",
    "text_batch, label_batch = next(iter(raw_train_ds))\n",
    "first_review, first_label = text_batch[0], label_batch[0]\n",
    "print(\"Text\", first_review)\n",
    "print(\"Label\", first_label.numpy())\n",
    "print(\"Vectorized review\", vectorize_text(first_review, first_label))\n",
    "\n",
    "# Call the defined functions to vectorize our texts.\n",
    "train_ds = raw_train_ds.map(vectorize_text)"
   ]
  },
  {
   "cell_type": "code",
   "execution_count": 8,
   "metadata": {
    "id": "idSP6YEYHBAw"
   },
   "outputs": [],
   "source": [
    "# Using tf autotune to prefetch the data for training. Just run it!\n",
    "AUTOTUNE = tf.data.AUTOTUNE\n",
    "train_ds = train_ds.cache().prefetch(buffer_size=AUTOTUNE)"
   ]
  },
  {
   "cell_type": "markdown",
   "metadata": {
    "id": "TxEpBi14HDRF"
   },
   "source": [
    "### Problem 3.1: Build your model!\n",
    "\n",
    "Complete the below model to build your very own Neural Network. Be sure to use LSTM in one or more of your layers. \n",
    "\n",
    "You can read about Tensorflow [LSTM Layer](https://www.tensorflow.org/api_docs/python/tf/keras/layers/LSTM) and combine it with [Bidirectional Layer](https://www.tensorflow.org/api_docs/python/tf/keras/layers/Bidirectional) to power it even more. \n",
    "\n",
    "Comment on your decision of your final model design. How many layers did you use? What motivations did you have to build your model the way you did? \n",
    "\n"
   ]
  },
  {
   "cell_type": "code",
   "execution_count": null,
   "metadata": {
    "id": "bntxNsO7HBrc"
   },
   "outputs": [],
   "source": [
    "# Build your model to train on the dataset. Complete the layers of the model \n",
    "# according to what you think may be the right mix to get a better accuracy.\n",
    "\n",
    "# Here out_dimension is the dimension of the output of the first layer.\n",
    "out_dim = 64\n",
    "\n",
    "model = tf.keras.Sequential([\n",
    "  tf.keras.layers.Embedding(max_features, out_dim),\n",
    "  ## ---------------- Your Code here ---------------- ##\n",
    "])\n",
    "\n",
    "\n",
    "# Call model.summary() to view your model once done!\n",
    "model.summary()"
   ]
  },
  {
   "cell_type": "markdown",
   "metadata": {
    "id": "nM4xHp0_HH_5"
   },
   "source": [
    "### Problem 3.2 Compile your model\n",
    "\n",
    "Compile your model and set the loss function to be BinaryCrossentropy as we are doing a Binary Classification. Set your model metric to caputure the accuracy of your model while training. This will enable you to measure the accuracy at each epoch and also gauge the test data prediction accuracy. \n",
    "\n",
    "**Hint:** Read all about [tf.model](https://www.tensorflow.org/api_docs/python/tf/keras/Model) for model compilation with suitable arguments and functions. "
   ]
  },
  {
   "cell_type": "code",
   "execution_count": null,
   "metadata": {
    "id": "oi2zMsKiHJ4-"
   },
   "outputs": [],
   "source": [
    "# Compile your model and set the loss function \n",
    "model.compile(loss = losses.BinaryCrossentropy(from_logits=False),\n",
    "              optimizer = 'adam',\n",
    "              metrics = ## ---------------- Your Code here ---------------- ## \n",
    "              )"
   ]
  },
  {
   "cell_type": "markdown",
   "metadata": {
    "id": "w9xLuXmVHJSL"
   },
   "source": [
    "Only run below cell if you have already trained your model and want to reload the model from the trained weights instead of training it again."
   ]
  },
  {
   "cell_type": "code",
   "execution_count": null,
   "metadata": {
    "id": "I772PKF3HOrg"
   },
   "outputs": [],
   "source": [
    "# checkpoint_path = \"trained_network/cp.ckpt\"\n",
    "# checkpoint_dir = os.path.dirname(checkpoint_path)             \n",
    "# model.load_weights(checkpoint_path)"
   ]
  },
  {
   "cell_type": "markdown",
   "metadata": {
    "id": "GckQXF0tHRTt"
   },
   "source": [
    "### Problem 3.3 Train the network!\n",
    "\n",
    "Complete below code to train your Neural Network and save your weights to your desired location. Choose your model parameters according to what you think is the best fit for your model to achieve the classification task. You will be judged based on the accuracy of your trained model on your test dataset."
   ]
  },
  {
   "cell_type": "code",
   "execution_count": null,
   "metadata": {
    "id": "zYRvXbpWHSdb"
   },
   "outputs": [],
   "source": [
    "# Set the checkpoint path of your model where each checkpoint of your trained \n",
    "# network will save the weights to. \n",
    "checkpoint_path = \"trained_network/cp.ckpt\"\n",
    "checkpoint_dir = os.path.dirname(checkpoint_path)\n",
    "cp_callback = tf.keras.callbacks.ModelCheckpoint(filepath=checkpoint_path,\n",
    "                                                 save_weights_only=True,\n",
    "                                                 verbose=1)\n",
    "\n",
    "# Set the number of epochs to train your model with and train your neural \n",
    "# network.\n",
    "epochs = \n",
    "history = model.fit(train_ds, epochs=epochs, callbacks=[cp_callback])"
   ]
  },
  {
   "cell_type": "markdown",
   "metadata": {
    "id": "CMOLlYmvHVcE"
   },
   "source": [
    "### Problem 3.4 Test your Model Accuracy\n",
    "\n",
    "Given with this assigment, is a file (uploaded to canvas under files named Ass5_Texts.csv), which gives 10 sentences each student. \n",
    "\n",
    "**a.** Read in the dataset and use your trained model to predict the probabilities of the output label being an opinion or not. Make a column named Predicted_Label with the output being 1 if the probability>0.5, 0 otherwise.\n",
    "\n",
    "**b.** Make a hand-labelled output column in your dataframe portraying what labels you think the sentences should be assigned to.\n",
    "\n",
    "**c.** Comment on your findings below about the model accuracy. Did you change anything in the code blocks above which effected your model quality? What can you say about the effect of using LSTM in your model to achieve this task?\n",
    "\n",
    "Write your created dataframe to a csv file and submit it to gradescope along with your ipynb file. A snapshot of the desired dataframe is given below.\n",
    "\n"
   ]
  },
  {
   "cell_type": "markdown",
   "metadata": {
    "id": "Uzq3-FlcHfbY"
   },
   "source": [
    "![Screen Shot 2022-11-13 at 4.35.55 PM.png](data:image/png;base64,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)"
   ]
  },
  {
   "cell_type": "code",
   "execution_count": null,
   "metadata": {
    "id": "FvlIPW1IHmGc"
   },
   "outputs": [],
   "source": [
    "## -------------------------------- Your Code here -------------------------------- ##"
   ]
  }
 ],
 "metadata": {
  "colab": {
   "provenance": []
  },
  "kernelspec": {
   "display_name": "Python 3",
   "language": "python",
   "name": "python3"
  },
  "language_info": {
   "codemirror_mode": {
    "name": "ipython",
    "version": 3
   },
   "file_extension": ".py",
   "mimetype": "text/x-python",
   "name": "python",
   "nbconvert_exporter": "python",
   "pygments_lexer": "ipython3",
   "version": "3.8.5"
  }
 },
 "nbformat": 4,
 "nbformat_minor": 5
}
